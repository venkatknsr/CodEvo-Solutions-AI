{
  "nbformat": 4,
  "nbformat_minor": 0,
  "metadata": {
    "colab": {
      "provenance": []
    },
    "kernelspec": {
      "name": "python3",
      "display_name": "Python 3"
    },
    "language_info": {
      "name": "python"
    }
  },
  "cells": [
    {
      "cell_type": "code",
      "execution_count": 53,
      "metadata": {
        "id": "92AZ-waMn7pR"
      },
      "outputs": [],
      "source": [
        "import tensorflow as tf\n",
        "from tensorflow.keras.models import Sequential\n",
        "from tensorflow.keras.layers import LSTM,Dense, Dropout, Activation, Flatten, Conv2D, MaxPooling2D\n",
        "import tensorflow_datasets as tfds\n",
        "import numpy as np\n",
        "from tensorflow.keras.optimizers import RMSprop\n",
        "import random"
      ]
    },
    {
      "cell_type": "code",
      "source": [
        "filepath=tf.keras.utils.get_file('shakspear.txt','https://storage.googleapis.com/download.tensorflow.org/data/shakespeare.txt')"
      ],
      "metadata": {
        "colab": {
          "base_uri": "https://localhost:8080/"
        },
        "id": "nxwxfrfer0zr",
        "outputId": "d2d729cf-d83e-45da-930e-90db45912357"
      },
      "execution_count": 10,
      "outputs": [
        {
          "output_type": "stream",
          "name": "stdout",
          "text": [
            "Downloading data from https://storage.googleapis.com/download.tensorflow.org/data/shakespeare.txt\n",
            "\u001b[1m1115394/1115394\u001b[0m \u001b[32m━━━━━━━━━━━━━━━━━━━━\u001b[0m\u001b[37m\u001b[0m \u001b[1m0s\u001b[0m 0us/step\n"
          ]
        }
      ]
    },
    {
      "cell_type": "code",
      "source": [
        "text=open(filepath,'r').read().lower()"
      ],
      "metadata": {
        "id": "7xMp7XqKtSgp"
      },
      "execution_count": 27,
      "outputs": []
    },
    {
      "cell_type": "code",
      "source": [
        "text=text[20000:80000]"
      ],
      "metadata": {
        "id": "G6yM5TaetXn_"
      },
      "execution_count": 28,
      "outputs": []
    },
    {
      "cell_type": "code",
      "source": [
        "characters=sorted(set(text))"
      ],
      "metadata": {
        "id": "LSinqXoCtZkL"
      },
      "execution_count": 29,
      "outputs": []
    },
    {
      "cell_type": "code",
      "source": [
        "text"
      ],
      "metadata": {
        "colab": {
          "base_uri": "https://localhost:8080/",
          "height": 139
        },
        "id": "4jkYbJ3Dti3Z",
        "outputId": "c871c013-2e64-47fc-ed7f-0285ca49ab79"
      },
      "execution_count": 30,
      "outputs": [
        {
          "output_type": "execute_result",
          "data": {
            "text/plain": [
              "\"the good horse is mine.\\n\\nmarcius:\\ni'll buy him of you.\\n\\nlartius:\\nno, i'll nor sell nor give him: lend you him i will\\nfor half a hundred years. summon the town.\\n\\nmarcius:\\nhow far off lie these armies?\\n\\nmessenger:\\nwithin this mile and half.\\n\\nmarcius:\\nthen shall we hear their 'larum, and they ours.\\nnow, mars, i prithee, make us quick in work,\\nthat we with smoking swords may march from hence,\\nto help our fielded friends! come, blow thy blast.\\ntutus aufidius, is he within your walls?\\n\\nfirst senator:\\nno, nor a man that fears you less than he,\\nthat's lesser than a little.\\nhark! our drums\\nare bringing forth our youth. we'll break our walls,\\nrather than they shall pound us up: our gates,\\nwhich yet seem shut, we, have but pinn'd with rushes;\\nthey'll open of themselves.\\nhark you. far off!\\nthere is aufidius; list, what work he makes\\namongst your cloven army.\\n\\nmarcius:\\no, they are at it!\\n\\nlartius:\\ntheir noise be our instruction. ladders, ho!\\n\\nmarcius:\\nthey fear us not, but issue forth their city.\\nnow put your shields before your hearts, and fight\\nwith hearts more proof than shields. advance,\\nbrave titus:\\nthey do disdain us much beyond our thoughts,\\nwhich makes me sweat with wrath. come on, my fellows:\\nhe that retires i'll take him for a volsce,\\nand he shall feel mine edge.\\n\\nmarcius:\\nall the contagion of the south light on you,\\nyou shames of rome! you herd of--boils and plagues\\nplaster you o'er, that you may be abhorr'd\\nfurther than seen and one infect another\\nagainst the wind a mile! you souls of geese,\\nthat bear the shapes of men, how have you run\\nfrom slaves that apes would beat! pluto and hell!\\nall hurt behind; backs red, and faces pale\\nwith flight and agued fear! mend and charge home,\\nor, by the fires of heaven, i'll leave the foe\\nand make my wars on you: look to't: come on;\\nif you'll stand fast, we'll beat them to their wives,\\nas they us to our trenches followed.\\nso, now the gates are ope: now prove good seconds:\\n'tis for the followers fortune widens them,\\nnot for the fliers: mark me, and do the like.\\n\\nfirst soldier:\\nfool-hardiness; not i.\\n\\nsecond soldier:\\nnor i.\\n\\nfirst soldier:\\nsee, they have shut him in.\\n\\nall:\\nto the pot, i warrant him.\\n\\nlartius:\\nwhat is become of marcius?\\n\\nall:\\nslain, sir, doubtless.\\n\\nfirst soldier:\\nfollowing the fliers at the very heels,\\nwith them he enters; who, upon the sudden,\\nclapp'd to their gates: he is himself alone,\\nto answer all the city.\\n\\nlartius:\\no noble fellow!\\nwho sensibly outdares his senseless sword,\\nand, when it bows, stands up. thou art left, marcius:\\na carbuncle entire, as big as thou art,\\nwere not so rich a jewel. thou wast a soldier\\neven to cato's wish, not fierce and terrible\\nonly in strokes; but, with thy grim looks and\\nthe thunder-like percussion of thy sounds,\\nthou madst thine enemies shake, as if the world\\nwere feverous and did tremble.\\n\\nfirst soldier:\\nlook, sir.\\n\\nlartius:\\no,'tis marcius!\\nlet's fetch him off, or make remain alike.\\n\\nfirst roman:\\nthis will i carry to rome.\\n\\nsecond roman:\\nand i this.\\n\\nthird roman:\\na murrain on't! i took this for silver.\\n\\nmarcius:\\nsee here these movers that do prize their hours\\nat a crack'd drachm! cushions, leaden spoons,\\nirons of a doit, doublets that hangmen would\\nbury with those that wore them, these base slaves,\\nere yet the fight be done, pack up: down with them!\\nand hark, what noise the general makes! to him!\\nthere is the man of my soul's hate, aufidius,\\npiercing our romans: then, valiant titus, take\\nconvenient numbers to make good the city;\\nwhilst i, with those that have the spirit, will haste\\nto help cominius.\\n\\nlartius:\\nworthy sir, thou bleed'st;\\nthy exercise hath been too violent for\\na second course of fight.\\n\\nmarcius:\\nsir, praise me not;\\nmy work hath yet not warm'd me: fare you well:\\nthe blood i drop is rather physical\\nthan dangerous to me: to aufidius thus\\ni will appear, and fight.\\n\\nlartius:\\nnow the fair goddess, fortune,\\nfall deep in love with thee; and her great charms\\nmisguide thy opposers' swords! bold gentleman,\\nprosperity be thy page!\\n\\nmarcius:\\nthy friend no less\\nthan those she placeth highest! so, farewell.\\n\\nlartius:\\nthou worthiest marcius!\\ngo, sound thy trumpet in the market-place;\\ncall thither all the officers o' the town,\\nwhere they shall know our mind: away!\\n\\ncominius:\\nbreathe you, my friends: well fought;\\nwe are come off\\nlike romans, neither foolish in our stands,\\nnor cowardly in retire: believe me, sirs,\\nwe shall be charged again. whiles we have struck,\\nby interims and conveying gusts we have heard\\nthe charges of our friends. ye roman gods!\\nlead their successes as we wish our own,\\nthat both our powers, with smiling\\nfronts encountering,\\nmay give you thankful sacrifice.\\nthy news?\\n\\nmessenger:\\nthe citizens of corioli have issued,\\nand given to lartius and to marcius battle:\\ni saw our party to their trenches driven,\\nand then i came away.\\n\\ncominius:\\nthough thou speak'st truth,\\nmethinks thou speak'st not well.\\nhow long is't since?\\n\\nmessenger:\\nabove an hour, my lord.\\n\\ncominius:\\n'tis not a mile; briefly we heard their drums:\\nhow couldst thou in a mile confound an hour,\\nand bring thy news so late?\\n\\nmessenger:\\nspies of the volsces\\nheld me in chase, that i was forced to wheel\\nthree or four miles about, else had i, sir,\\nhalf an hour since brought my report.\\n\\ncominius:\\nwho's yonder,\\nthat does appear as he were flay'd? o gods\\nhe has the stamp of marcius; and i have\\nbefore-time seen him thus.\\n\\nmarcius:\\n\\ncominius:\\nthe shepherd knows not thunder from a tabour\\nmore than i know the sound of marcius' tongue\\nfrom every meaner man.\\n\\nmarcius:\\ncome i too late?\\n\\ncominius:\\nay, if you come not in the blood of others,\\nbut mantled in your own.\\n\\nmarcius:\\no, let me clip ye\\nin arms as sound as when i woo'd, in heart\\nas merry as when our nuptial day was done,\\nand tapers burn'd to bedward!\\n\\ncominius:\\nflower of warriors,\\nhow is it with titus lartius?\\n\\nmarcius:\\nas with a man busied about decrees:\\ncondemning some to death, and some to exile;\\nransoming him, or pitying, threatening the other;\\nholding corioli in the name of rome,\\neven like a fawning greyhound in the leash,\\nto let him slip at will.\\n\\ncominius:\\nwhere is that slave\\nwhich told me they had beat you to your trenches?\\nwhere is he? call him hither.\\n\\nmarcius:\\nlet him alone;\\nhe did inform the truth: but for our gentlemen,\\nthe common file--a plague! tribunes for them!--\\nthe mouse ne'er shunn'd the cat as they did budge\\nfrom rascals worse than they.\\n\\ncominius:\\nbut how prevail'd you?\\n\\nmarcius:\\nwill the time serve to tell? i do not think.\\nwhere is the enemy? are you lords o' the field?\\nif not, why cease you till you are so?\\n\\ncominius:\\nmarcius,\\nwe have at disadvantage fought and did\\nretire to win our purpose.\\n\\nmarcius:\\nhow lies their battle? know you on which side\\nthey have placed their men of trust?\\n\\ncominius:\\nas i guess, marcius,\\ntheir bands i' the vaward are the antiates,\\nof their best trust; o'er them aufidius,\\ntheir very heart of hope.\\n\\nmarcius:\\ni do beseech you,\\nby all the battles wherein we have fought,\\nby the blood we have shed together, by the vows\\nwe have made to endure friends, that you directly\\nset me against aufidius and his antiates;\\nand that you not delay the present, but,\\nfilling the air with swords advanced and darts,\\nwe prove this very hour.\\n\\ncominius:\\nthough i could wish\\nyou were conducted to a gentle bath\\nand balms applied to, you, yet dare i never\\ndeny your asking: take your choice of those\\nthat best can aid your action.\\n\\nmarcius:\\nthose are they\\nthat most are willing. if any such be here--\\nas it were sin to doubt--that love this painting\\nwherein you see me smear'd; if any fear\\nlesser his person than an ill report;\\nif any think brave death outweighs bad life\\nand that his country's dearer than himself;\\nlet him alone, or so many so minded,\\nwave thus, to express his disposition,\\nand follow marcius.\\no, me alone! make you a sword of me?\\nif these shows be not outward, which of you\\nbut is four volsces? none of you but is\\nable to bear against the great aufidius\\na shield as hard as his. a certain number,\\nthough thanks to all, must i select\\nfrom all: the rest\\nshall bear the business in some other fight,\\nas cause will be obey'd. please you to march;\\nand four shall quickly draw out my command,\\nwhich men are best inclined.\\n\\ncominius:\\nmarch on, my fellows:\\nmake good this ostentation, and you shall\\ndivide in all with us.\\n\\nlartius:\\nso, let the ports be guarded: keep your duties,\\nas i have set them down. if i do send, dispatch\\nthose centuries to our aid: the rest will serve\\nfor a short holding: if we lose the field,\\nwe cannot keep the town.\\n\\nlieutenant:\\nfear not our care, sir.\\n\\nlartius:\\nhence, and shut your gates upon's.\\nour guider, come; to the roman camp conduct us.\\n\\nmarcius:\\ni'll fight with none but thee; for i do hate thee\\nworse than a promise-breaker.\\n\\naufidius:\\nwe hate alike:\\nnot afric owns a serpent i abhor\\nmore than thy fame and envy. fix thy foot.\\n\\nmarcius:\\nlet the first budger die the other's slave,\\nand the gods doom him after!\\n\\naufidius:\\nif i fly, marcius,\\nholloa me like a hare.\\n\\nmarcius:\\nwithin these three hours, tullus,\\nalone i fought in your corioli walls,\\nand made what work i pleased: 'tis not my blood\\nwherein thou seest me mask'd; for thy revenge\\nwrench up thy power to the highest.\\n\\naufidius:\\nwert thou the hector\\nthat was the whip of your bragg'd progeny,\\nthou shouldst not scape me here.\\nofficious, and not valiant, you have shamed me\\nin your condemned seconds.\\n\\ncominius:\\nif i should tell thee o'er this thy day's work,\\nthou'ldst not believe thy deeds: but i'll report it\\nwhere senators shall mingle tears with smiles,\\nwhere great patricians shall attend and shrug,\\ni' the end admire, where ladies shall be frighted,\\nand, gladly quaked, hear more; where the\\ndull tribunes,\\nthat, with the fusty plebeians, hate thine honours,\\nshall say against their hearts 'we thank the gods\\nour rome hath such a soldier.'\\nyet camest thou to a morsel of this feast,\\nhaving fully dined before.\\n\\nlartius:\\no general,\\nhere is the steed, we the caparison:\\nhadst thou beheld--\\n\\nmarcius:\\npray now, no more: my mother,\\nwho has a charter to extol her blood,\\nwhen she does praise me grieves me. i have done\\nas you have done; that's what i can; induced\\nas you have been; that's for my country:\\nhe that has but effected his good will\\nhath overta'en mine act.\\n\\ncominius:\\nyou shall not be\\nthe grave of your deserving; rome must know\\nthe value of her own: 'twere a concealment\\nworse than a theft, no less than a traducement,\\nto hide your doings; and to silence that,\\nwhich, to the spire and top of praises vouch'd,\\nwould seem but modest: therefore, i beseech you\\nin sign of what you are, not to reward\\nwhat you have done--before our army hear me.\\n\\nmarcius:\\ni have some wounds upon me, and they smart\\nto hear themselves remember'd.\\n\\ncominius:\\nshould they not,\\nwell might they fester 'gainst ingratitude,\\nand tent themselves with death. of all the horses,\\nwhereof we have ta'en good and good store, of all\\nthe treasure in this field achieved and city,\\nwe render you the tenth, to be ta'en forth,\\nbefore the common distribution, at\\nyour only choice.\\n\\nmarcius:\\ni thank you, general;\\nbut cannot make my heart consent to take\\na bribe to pay my sword: i do refuse it;\\nand stand upon my common part with those\\nthat have beheld the doing.\\n\\nmarcius:\\nmay these same instruments, which you profane,\\nnever sound more! when drums and trumpets shall\\ni' the field prove flatterers, let courts and cities be\\nmade all of false-faced soothing!\\nwhen steel grows soft as the parasite's silk,\\nlet him be made a coverture for the wars!\\nno more, i say! for that i have not wash'd\\nmy nose that bled, or foil'd some debile wretch.--\\nwhich, without note, here's many else have done,--\\nyou shout me forth\\nin acclamations hyperbolical;\\nas if i loved my little should be dieted\\nin praises sauced with lies.\\n\\ncominius:\\ntoo modest are you;\\nmore cruel to your good report than grateful\\nto us that give you truly: by your patience,\\nif 'gainst yourself you be incensed, we'll put you,\\nlike one that means his proper harm, in manacles,\\nthen reason safely with you. therefore, be it known,\\nas to us, to all the world, that caius marcius\\nwears this war's garland: in token of the which,\\nmy noble steed, known to the camp, i give him,\\nwith all his trim belonging; and from this time,\\nfor what he did before corioli, call him,\\nwith all the applause and clamour of the host,\\ncaius marcius coriolanus! bear\\nthe addition nobly ever!\\n\\nall:\\ncaius marcius coriolanus!\\n\\ncoriolanus:\\ni will go wash;\\nand when my face is fair, you shall perceive\\nwhether i blush or no: howbeit, i thank you.\\ni mean to stride your steed, and at all times\\nto undercrest your good addition\\nto the fairness of my power.\\n\\ncominius:\\nso, to our tent;\\nwhere, ere we do repose us, we will write\\nto rome of our success. you, titus lartius,\\nmust to corioli back: send us to rome\\nthe best, with whom we may articulate,\\nfor their own good and ours.\\n\\nlartius:\\ni shall, my lord.\\n\\ncoriolanus:\\nthe gods begin to mock me. i, that now\\nrefused most princely gifts, am bound to beg\\nof my lord general.\\n\\ncominius:\\ntake't; 'tis yours. what is't?\\n\\ncoriolanus:\\ni sometime lay here in corioli\\nat a poor man's house; he used me kindly:\\nhe cried to me; i saw him prisoner;\\nbut then aufidius was within my view,\\nand wrath o'erwhelm'd my pity: i request you\\nto give my poor host freedom.\\n\\ncominius:\\no, well begg'd!\\nwere he the butcher of my son, he should\\nbe free as is the wind. deliver him, titus.\\n\\nlartius:\\nmarcius, his name?\\n\\ncoriolanus:\\nby jupiter! forgot.\\ni am weary; yea, my memory is tired.\\nhave we no wine here?\\n\\ncominius:\\ngo we to our tent:\\nthe blood upon your visage dries; 'tis time\\nit should be look'd to: come.\\n\\naufidius:\\nthe town is ta'en!\\n\\nfirst soldier:\\n'twill be deliver'd back on good condition.\\n\\naufidius:\\ncondition!\\ni would i were a roman; for i cannot,\\nbeing a volsce, be that i am. condition!\\nwhat good condition can a treaty find\\ni' the part that is at mercy? five times, marcius,\\ni have fought with thee: so often hast thou beat me,\\nand wouldst do so, i think, should we encounter\\nas often as we eat. by the elements,\\nif e'er again i meet him beard to beard,\\nhe's mine, or i am his: mine emulation\\nhath not that honour in't it had; for where\\ni thought to crush him in an equal force,\\ntrue sword to sword, i'll potch at him some way\\nor wrath or craft may get him.\\n\\nfirst soldier:\\nhe's the devil.\\n\\naufidius:\\nbolder, though not so subtle. my valour's poison'd\\nwith only suffering stain by him; for him\\nshall fly out of itself: nor sleep nor sanctuary,\\nbeing naked, sick, nor fane nor capitol,\\nthe prayers of priests nor times of sacrifice,\\nembarquements all of fury, shall lift up\\ntheir rotten privilege and custom 'gainst\\nmy hate to marcius: where i find him, were it\\nat home, upon my brother's guard, even there,\\nagainst the hospitable canon, would i\\nwash my fierce hand in's heart. go you to the city;\\nlearn how 'tis held; and what they are that must\\nbe hostages for rome.\\n\\nfirst soldier:\\nwill not you go?\\n\\naufidius:\\ni am attended at the cypress grove: i pray you--\\n'tis south the city mills--bring me word thither\\nhow the world goes, that to the pace of it\\ni may spur on my journey.\\n\\nfirst soldier:\\ni shall, sir.\\n\\nmenenius:\\nthe augurer tells me we shall have news to-night.\\n\\nbrutus:\\ngood or bad?\\n\\nmenenius:\\nnot according to the prayer of the people, for they\\nlove not marcius.\\n\\nsicinius:\\nnature teaches beasts to know their friends.\\n\\nmenenius:\\npray you, who does the wolf love?\\n\\nsicinius:\\nthe lamb.\\n\\nmenenius:\\nay, to devour him; as the hungry plebeians would the\\nnoble marcius.\\n\\nbrutus:\\nhe's a lamb indeed, that baes like a bear.\\n\\nmenenius:\\nhe's a bear indeed, that lives like a lamb. you two\\nare old men: tell me one thing that i shall ask you.\\n\\nboth:\\nwell, sir.\\n\\nmenenius:\\nin what enormity is marcius poor in, that you two\\nhave not in abundance?\\n\\nbrutus:\\nhe's poor in no one fault, but stored with all.\\n\\nsicinius:\\nespecially in pride.\\n\\nbrutus:\\nand topping all others in boasting.\\n\\nmenenius:\\nthis is strange now: do you two know how you are\\ncensured here in the city, i mean of us o' the\\nright-hand file? do you?\\n\\nboth:\\nwhy, how are we censured?\\n\\nmenenius:\\nbecause you talk of pride now,--will you not be angry?\\n\\nboth:\\nwell, well, sir, well.\\n\\nmenenius:\\nwhy, 'tis no great matter; for a very little thief of\\noccasion will rob you of a great deal of patience:\\ngive your dispositions the reins, and be angry at\\nyour pleasures; at the least if you take it as a\\npleasure to you in being so. you blame marcius for\\nbeing proud?\\n\\nbrutus:\\nwe do it not alone, sir.\\n\\nmenenius:\\ni know you can do very little alone; for your helps\\nare many, or else your actions would grow wondrous\\nsingle: your abilities are too infant-like for\\ndoing much alone. you talk of pride: o that you\\ncould turn your eyes toward the napes of your necks,\\nand make but an interior survey of your good selves!\\no that you could!\\n\\nbrutus:\\nwhat then, sir?\\n\\nmenenius:\\nwhy, then you should discover a brace of unmeriting,\\nproud, violent, testy magistrates, alias fools, as\\nany in rome.\\n\\nsicinius:\\nmenenius, you are known well enough too.\\n\\nmenenius:\\ni am known to be a humorous patrician, and one that\\nloves a cup of hot wine with not a drop of allaying\\ntiber in't; said to be something imperfect in\\nfavouring the first complaint; hasty and tinder-like\\nupon too trivial motion; one that converses more\\nwith the buttock of the night than with the forehead\\nof the morning: what i think i utter, and spend my\\nmalice in my breath. meeting two such wealsmen as\\nyou are--i cannot call you lycurguses--if the drink\\nyou give me touch my palate adversely, i make a\\ncrooked face at it. i can't say your worships have\\ndelivered the matter well, when i find the ass in\\ncompound with the major part of your syllables: and\\nthough i must be content to bear with those that say\\nyou are reverend grave men, yet they lie deadly that\\ntell you you have good faces. if you see this in\\nthe map of my microcosm, follows it that i am known\\nwell enough too? what barm can your bisson\\nconspectuities glean out of this character, if i be\\nknown well enough too?\\n\\nbrutus:\\ncome, sir, come, we know you well enough.\\n\\nmenenius:\\nyou know neither me, yourselves nor any thing. you\\nare ambitious for poor knaves' caps and legs: you\\nwear out a good wholesome forenoon in hearing a\\ncause between an orange wife and a fosset-seller;\\nand then rejourn the controversy of three pence to a\\nsecond day of audience. when you are hearing a\\nmatter between party and party, if you chance to be\\npinched with the colic, you make faces like\\nmummers; set up the bloody flag against all\\npatience; and, in roaring for a chamber-pot,\\ndismiss the controversy bleeding the more entangled\\nby your hearing: all the peace you make in their\\ncause is, calling both the parties knaves. you are\\na pair of strange ones.\\n\\nbrutus:\\ncome, come, you are well understood to be a\\nperfecter giber for the table than a necessary\\nbencher in the capitol.\\n\\nmenenius:\\nour very priests must become mockers, if they shall\\nencounter such ridiculous subjects as you are. when\\nyou speak best unto the purpose, it is not worth the\\nwagging of your beards; and your beards deserve not\\nso honourable a grave as to stuff a botcher's\\ncushion, or to be entombed in an ass's pack-\\nsaddle. yet you must be saying, marcius is proud;\\nwho in a cheap estimation, is worth predecessors\\nsince deucalion, though peradventure some of the\\nbest of 'em were hereditary hangmen. god-den to\\nyour worships: more of your conversation would\\ninfect my brain, being the herdsmen of the beastly\\nplebeians: i will be bold to take my leave of you.\\nhow now, my as fair as noble ladies,--and the moon,\\nwere she earthly, no nobler,--whither do you follow\\nyour eyes so fast?\\n\\nvolumnia:\\nhonourable menenius, my boy marcius approaches; for\\nthe love of juno, let's go.\\n\\nmenenius:\\nha! marcius coming home!\\n\\nvolumnia:\\nay, worthy menenius; and with most prosperous\\napprobation.\\n\\nmenenius:\\ntake my cap, jupiter, and i thank thee. hoo!\\nmarcius coming home!\\n\\nvolumnia:\\nnay,'tis true.\\n\\nvolumnia:\\nlook, here's a letter from him: the state hath\\nanother, his wife another; and, i think, there's one\\nat home for you.\\n\\nmenenius:\\ni will make my very house reel tonight: a letter for\\nme!\\n\\nvirgilia:\\nyes, certain, there's a letter for you; i saw't.\\n\\nmenenius:\\na letter for me! it gives me an estate of seven\\nyears' health; in which time i will make a lip at\\nthe physician: the most sovereign prescription in\\ngalen is but empiricutic, and, to this preservative,\\nof no better report than a horse-drench. is he\\nnot wounded? he was wont to come home wounded.\\n\\nvirgilia:\\no, no, no, no.\\n\\nvolumnia:\\no, he is wounded; i thank the gods for't.\\n\\nmenenius:\\nso do i too, if it be not too much: brings a'\\nvictory in his pocket? the wounds become him.\\n\\nvolumnia:\\non's brows: menenius, he comes the third time home\\nwith the oaken garland.\\n\\nmenenius:\\nhas he disciplined aufidius soundly?\\n\\nvolumnia:\\ntitus lartius writes, they fought together, but\\naufidius got off.\\n\\nmenenius:\\nand 'twas time for him too, i'll warrant him that:\\nan he had stayed by him, i would not have been so\\nfidiused for all the chests in corioli, and the gold\\nthat's in them. is the senate possessed of this?\\n\\nvolumnia:\\ngood ladies, let's go. yes, yes, yes; the senate\\nhas letters from the general, wherein he gives my\\nson the whole name of the war: he hath in this\\naction outdone his former deeds doubly\\n\\nvaleria:\\nin troth, there's wondrous things spoke of him.\\n\\nmenenius:\\nwondrous! ay, i warrant you, and not without his\\ntrue purchasing.\\n\\nvirgilia:\\nthe gods grant them true!\\n\\nvolumnia:\\ntrue! pow, wow.\\n\\nmenenius:\\ntrue! i'll be sworn they are true.\\nwhere is he wounded?\\ngod save your good worships! marcius is coming\\nhome: he has more cause to be proud. where is he wounded?\\n\\nvolumnia:\\ni' the shoulder and i' the left arm there will be\\nlarge cicatrices to show the people, when he shall\\nstand for his place. he received in the repulse of\\ntarquin seven hurts i' the body.\\n\\nmenenius:\\none i' the neck, and two i' the thigh,--there's\\nnine that i know.\\n\\nvolumnia:\\nhe had, before this last expedition, twenty-five\\nwounds upon him.\\n\\nmenenius:\\nnow it's twenty-seven: every gash was an enemy's grave.\\nhark! the trumpets.\\n\\nvolumnia:\\nthese are the ushers of marcius: before him he\\ncarries noise, and behind him he leaves tears:\\ndeath, that dark spirit, in 's nervy arm doth lie;\\nwhich, being advanced, declines, and then men die.\\n\\nherald:\\nknow, rome, that all alone marcius did fight\\nwithin corioli gates: where he hath won,\\nwith fame, a name to caius marcius; these\\nin honour follows coriolanus.\\nwelcome to rome, renowned coriolanus!\\n\\nall:\\nwelcome to rome, renowned coriolanus!\\n\\ncoriolanus:\\nno more of this; it does offend my heart:\\npray now, no more.\\n\\ncominius:\\nlook, sir, your mother!\\n\\ncoriolanus:\\no,\\nyou have, i know, petition'd all the gods\\nfor my prosperity!\\n\\nvolumnia:\\nnay, my good soldier, up;\\nmy gentle marcius, worthy caius, and\\nby deed-achieving honour newly named,--\\nwhat is it?--coriolanus must i call thee?--\\nbut o, thy wife!\\n\\ncoriolanus:\\nmy gracious silence, hail!\\nwouldst thou have laugh'd had i come coffin'd home,\\nthat weep'st to see me triumph? ay, my dear,\\nsuch eyes the widows in corioli wear,\\nand mothers that lack sons.\\n\\nmenenius:\\nnow, the gods crown thee!\\n\\ncoriolanus:\\nand live you yet?\\no my sweet lady, pardon.\\n\\nvolumnia:\\ni know not where to turn: o, welcome home:\\nand welcome, general: and ye're welcome all.\\n\\nmenenius:\\na hundred thousand welcomes. i could weep\\nand i could laugh, i am light and heavy. welcome.\\na curse begin at very root on's heart,\\nthat is not glad to see thee! you are three\\nthat rome should dote on: yet, by the faith of men,\\nwe have some old crab-trees here\\nat home that will not\\nbe grafted to your relish. yet welcome, warriors:\\nwe call a nettle but a nettle and\\nthe faults of fools but folly.\\n\\ncominius:\\never right.\\n\\ncoriolanus:\\nmenenius ever, ever.\\n\\nherald:\\ngive way there, and go on!\\n\\ncoriolanus:\\n\\nvolumnia:\\ni have lived\\nto see inherited my very wishes\\nand the buildings of my fancy: only\\nthere's one thing wanting, which i doubt not but\\nour rome will cast upon thee.\\n\\ncoriolanus:\\nknow, good mother,\\ni had rather be their servant in my way,\\nthan sway with them in theirs.\\n\\ncominius:\\non, to the capitol!\\n\\nbrutus:\\nall tongues speak of him, and the bleared sights\\nare spectacled to see him: your prattling nurse\\ninto a rapture lets her baby cry\\nwhile she chats him: the kitchen malkin pins\\nher richest lockram 'bout her reechy neck,\\nclambering the walls to eye him: stalls, bulks, windows,\\nare smother'd up, leads fill'd, and ridges horsed\\nwith variable complexions, all agreeing\\nin earnestness to see him: seld-shown flamens\\ndo press among the popular throngs and puff\\nto win a vulgar station: or veil'd dames\\ncommit the war of white and damask in\\ntheir nicely-gawded cheeks to the wanton spoil\\nof phoebus' burning kisses: such a pother\\nas if that whatsoever god who leads him\\nwere slily crept into his human powers\\nand gave him graceful posture.\\n\\nsicinius:\\non the sudden,\\ni warrant him consul.\\n\\nbrutus:\\nthen our office may,\\nduring his power, go sleep.\\n\\nsicinius:\\nhe cannot temperately transport his honours\\nfrom where he should begin and end, but will\\nlose those he hath won.\\n\\nbrutus:\\nin that there's comfort.\\n\\nsicinius:\\ndoubt not\\nthe commoners, for whom we stand, but they\\nupon their ancient malice will forget\\nwith the least cause these his new honours, which\\nthat he will give them make i as little question\\nas he is proud to do't.\\n\\nbrutus:\\ni heard him swear,\\nwere he to stand for consul, never would he\\nappear i' the market-place nor on him put\\nthe napless vesture of humility;\\nnor showing, as the manner is, his wounds\\nto the people, beg their stinking breaths.\\n\\nsicinius:\\n'tis right.\\n\\nbrutus:\\nit was his word: o, he would miss it rather\\nthan carry it but by the suit of the gentry to him,\\nand the desire of the nobles.\\n\\nsicinius:\\ni wish no better\\nthan have him hold that purpose and to put it\\nin execution.\\n\\nbrutus:\\n'tis most like he will.\\n\\nsicinius:\\nit shall be to him then as our good wills,\\na sure destruction.\\n\\nbrutus:\\nso it must fall out\\nto him or our authorities. for an end,\\nwe must suggest the people in what hatred\\nhe still hath held them; that to's power he would\\nhave made them mules, silenced their pleaders and\\ndispropertied their freedoms, holding them,\\nin human action and capacity,\\nof no more soul nor fitness for the world\\nthan camels in the war, who have their provand\\nonly for bearing burdens, and sore blows\\nfor sinking under them.\\n\\nsicinius:\\nthis, as you say, suggested\\nat some time when his soaring insolence\\nshall touch the people--which time shall not want,\\nif he be put upon 't; and that's as easy\\nas to set dogs on sheep--will be his fire\\nto kindle their dry stubble; and their blaze\\nshall darken him for ever.\\n\\nbrutus:\\nwhat's the matter?\\n\\nmessenger:\\nyou are sent for to the capitol. 'tis thought\\nthat marcius shall be consul:\\ni have seen the dumb men throng to see him and\\nthe blind to bear him speak: matrons flung gloves,\\nladies and maids their scarfs and handkerchers,\\nupon him as he pass'd: the nobles bended,\\nas to jove's statue, and the commons made\\na shower and thunder with their caps and shouts:\\ni never saw the like.\\n\\nbrutus:\\nlet's to the capitol;\\nand carry with us ears and eyes for the time,\\nbut hearts for the event.\\n\\nsicinius:\\nhave with you.\\n\\nfirst officer:\\ncome, come, they are almost here. how many stand\\nfor consulships?\\n\\nsecond officer:\\nthree, they say: but 'tis thought of every one\\ncoriolanus will carry it.\\n\\nfirst officer:\\nthat's a brave fellow; but he's vengeance proud, and\\nloves not the common people.\\n\\nsecond officer:\\nfaith, there had been many great men that have\\nflattered the people, who ne'er loved them; and there\\nbe many that they have loved, they know not\\nwherefore: so that, if they love they know not why,\\nthey hate upon no better a ground: therefore, for\\ncoriolanus neither to care whether they love or hate\\nhim manifests the true knowledge he has in their\\ndisposition; and out of his noble carelessness lets\\nthem plainly see't.\\n\\nfirst officer:\\nif he did not care whether he had their love or no,\\nhe waved indifferently 'twixt doing them neither\\ngood nor harm: but he seeks their hate with greater\\ndevotion than can render it him; and leaves\\nnothing undone that may fully discover him their\\nopposite. now, to seem to affect the malice and\\ndispleasure of the people is as bad as that which he\\ndislikes, to flatter them for their love.\\n\\nsecond officer:\\nhe hath deserved worthily of his country: and his\\nascent is not by such easy degrees as those who,\\nhaving been supple and courteous to the people,\\nbonneted, without any further deed to have them at\\nan into their estimation and report: but he hath so\\nplanted his honours in their eyes, and his actions\\nin their hearts, that for their tongues to be\\nsilent, and not confess so much, were a kind of\\ningrateful injury; to report otherwise, were a\\nmalice, that, giving itself the lie, would pluck\\nreproof and rebuke from every ear that heard it.\\n\\nfirst officer:\\nno more of him; he is a worthy man: make way, they\\nare coming.\\n\\nmenenius:\\nhaving determined of the volsces and\\nto send for titus lartius, it remains,\\nas the main point of this our after-meeting,\\nto gratify his noble service that\\nhath thus stood for his country: therefore,\\nplease you,\\nmost reverend and grave elders, to desire\\nthe present consul, and last general\\nin our well-found successes, to report\\na little of that worthy work perform'd\\nby caius marcius coriolanus, whom\\nwe met here both to thank and to remember\\nwith honours like himself.\\n\\nfirst senator:\\nspeak, good cominius:\\nleave nothing out for length, and make us think\\nrather our state's defective for requital\\nthan we to stretch it out.\\nmasters o' the people,\\nwe do request your kindest ears, and after,\\nyour loving motion toward the common body,\\nto yield what passes here.\\n\\nsicinius:\\nwe are convented\\nupon a pleasing treaty, and have hearts\\ninclinable to honour and advance\\nthe theme of our assembly.\\n\\nbrutus:\\nwhich the rather\\nwe shall be blest to do, if he remember\\na kinder value of the people than\\nhe hath hereto prized them at.\\n\\nmenenius:\\nthat's off, that's off;\\ni would you rather had been silent. please you\\nto hear cominius speak?\\n\\nbrutus:\\nmost willingly;\\nbut yet my caution was more pertinent\\nthan the rebuke you give it.\\n\\nmenenius:\\nhe loves your people\\nbut tie him not to be their bedfellow.\\nworthy cominius, speak.\\nnay, keep your place.\\n\\nfirst senator:\\nsit, coriolanus; never shame to hear\\nwhat you have nobly done.\\n\\ncoriolanus:\\nyour horror's pardon:\\ni had rather have my wounds to heal again\\nthan hear say how i got them.\\n\\nbrutus:\\nsir, i hope\\nmy words disbench'd you not.\\n\\ncoriolanus:\\nno, sir: yet oft,\\nwhen blows have made me stay, i fled from words.\\nyou soothed not, therefore hurt not: but\\nyour people,\\ni love them as they weigh.\\n\\nmenenius:\\npray now, sit down.\\n\\ncoriolanus:\\ni had rather have one scratch my head i' the sun\\nwhen the alarum were struck than idly sit\\nto hear my nothings monster'd.\\n\\nmenenius:\\nmasters of the people,\\nyour multiplying spawn how can he flatter--\\nthat's thousand to one good one--when you now see\\nhe had rather venture all his limbs for honour\\nthan one on's ears to hear it? proceed, cominius.\\n\\ncominius:\\ni shall lack voice: the deeds of coriolanus\\nshould not be utter'd feebly. it is held\\nthat valour is the chiefest virtue, and\\nmost dignifies the haver: if it be,\\nthe man i speak of cannot in the world\\nbe singly counterpoised. at sixteen years,\\nwhen tarquin made a head for rome, he fought\\nbeyond the mark of others: our then dictator,\\nwhom with all praise i point at, saw him fight,\\nwhen with his amazonian chin he drove\\nthe bristled lips before him: be bestrid\\nan o'er-press'd roman and i' the consul's view\\nslew three opposers: tarquin's self he met,\\nand struck him on his knee: in that day's feats,\\nwhen he might act the woman in the scene,\\nhe proved best man i' the field, and for his meed\\nwas brow-bound with the oak. his pupil age\\nman-enter'd thus, he waxed like a sea,\\nand in the brunt of seventeen battles since\\nhe lurch'd all swords of the garland. for this last,\\nbefore and in corioli, let me say,\\ni cannot speak him home: he stopp'd the fliers;\\nand by his rare example made the coward\\nturn terror into sport: as weeds before\\na vessel under sail, so men obey'd\\nand fell below his stem: his sword, death's stamp,\\nwhere it did mark, it took; from face to foot\\nhe was a thing of blood, whose every motion\\nwas timed with dying cries: alone he enter'd\\nthe mortal gate of the city, which he painted\\nwith shunless destiny; aidless came off,\\nand with a sudden reinforcement struck\\ncorioli like a planet: now all's his:\\nwhen, by and by, the din of war gan pierce\\nhis ready sense; then straight his doubled spirit\\nre-quicken'd what in flesh was fatigate,\\nand to the battle came he; where he did\\nrun reeking o'er the lives of men, as if\\n'twere a perpetual spoil: and till we call'd\\nboth field and city ours, he never stood\\nto ease his breast with panting.\\n\\nmenenius:\\nworthy man!\\n\\nfirst senator:\\nhe cannot but with measure fit the honours\\nwhich we devise him.\\n\\ncominius:\\nour spoils he kick'd at,\\nand look'd upon things precious as they were\\nthe common muck of the world: he covets less\\nthan misery itself would give; rewards\\nhis deeds with doing them, and is content\\nto spend the time to end it.\\n\\nmenenius:\\nhe's right noble:\\nlet him be call'd for.\\n\\nfirst senator:\\ncall coriolanus.\\n\\nofficer:\\nhe doth appear.\\n\\nmenenius:\\nthe senate, coriolanus, are well pleased\\nto make thee consul.\\n\\ncoriolanus:\\ni do owe them still\\nmy life and services.\\n\\nmenenius:\\nit then remains\\nthat you do speak to the people.\\n\\ncoriolanus:\\ni do beseech you,\\nlet me o'erleap that custom, for i cannot\\nput on the gown, stand naked and entreat them,\\nfor my wounds' sake, to give their suffrage: please you\\nthat i may pass this doing.\\n\\nsicinius:\\nsir, the people\\nmust have their voices; neither will they bate\\none jot of ceremony.\\n\\nmenenius:\\nput them not to't:\\npray you, go fit you to the custom and\\ntake to you, as your predecessors have,\\nyour honour with your form.\\n\\ncoriolanus:\\nit is apart\\nthat i shall blush in acting, and might well\\nbe taken from the people.\\n\\nbrutus:\\nmark you that?\\n\\ncoriolanus:\\nto brag unto them, thus i did, and thus;\\nshow them the unaching scars which i should hide,\\nas if i had received them for the hire\\nof their breath only!\\n\\nmenenius:\\ndo not stand upon't.\\nwe recommend to you, tribunes of the people,\\nour purpose to them: and to our noble consul\\nwish we all joy and honour.\\n\\nsenators:\\nto coriolanus come all joy and honour!\\n\\nbrutus:\\nyou see how he intends to use the people.\\n\\nsicinius:\\nmay they perceive's intent! he will require them,\\nas if he did contemn what he requested\\nshould be in them to give.\\n\\nbrutus:\\ncome, we'll inform them\\nof our proceedings here: on the marketplace,\\ni know, they do attend us.\\n\\nfirst citizen:\\nonce, if he do require our voices, we ought not to deny him.\\n\\nsecond citizen:\\nwe may, sir, if we will.\\n\\nthird citizen:\\nwe have power in ourselves to do it, but it is a\\npower that we have no power to do; for if he show us\\nhis wounds and tell us his deeds, we are to put our\\ntongues into those wounds and speak for them; so, if\\nhe tell us his noble deeds, we must also tell him\\nour noble acceptance of them. ingratitude is\\nmonstrous, and for the multitude to be ingrateful,\\nwere to make a monster of the multitude: of the\\nwhich we being members, should bring ourselves to be\\nmonstrous members.\\n\\nfirst citizen:\\nand to make us no better thought of, a little help\\nwill serve; for once we stood up about the corn, he\\nhimself stuck not to call us the many-headed multitude.\\n\\nthird citizen:\\nwe have been called so of many; not that our heads\\nare some brown, some black, some auburn, some bald,\\nbut that our wits are so diversely coloured: and\\ntruly i think if all our wits were to issue out of\\none skull, they would fly east, west, north, south,\\nand their consent of one direct way should be at\\nonce to all the points o' the compass.\\n\\nsecond citizen:\\nthink you so? which way do you judge my wit would\\nfly?\\n\\nthird citizen:\\nnay, your wit will not so soon out as another man's\\nwill;'tis strongly wedged up in a block-head, but\\nif it were at liberty, 'twould, sure, southward.\\n\\nsecond citizen:\\nwhy that way?\\n\\nthird citizen:\\nto lose itself in a fog, where being three parts\\nmelted away with rotten dews, the fourth would return\\nfor conscience sake, to help to get thee a wife.\\n\\nsecond citizen:\\nyou are never without your tricks: you may, you may.\\n\\nthird citizen:\\nare you all resolved to give your voices? but\\nthat's no matter, the greater part carries it. i\\nsay, if he would incline to the people, there was\\nnever a worthier man.\\nhere he comes, and in the gown of humility: mark his\\nbehavior. we are not to stay all together, but to\\ncome by him where he stands, by ones, by twos, and\\nby threes. he's to make his requests by\\nparticulars; wherein every one of us has a single\\nhonour, in giving him our own voices with our own\\ntongues: therefore follow me, and i direct you how\\nyou shall go by him.\\n\\nall:\\ncontent, content.\\n\\nmenenius:\\no sir, you are not right: have you not known\\nthe worthiest men have done't?\\n\\ncoriolanus:\\nwhat must i say?\\n'i pray, sir'--plague upon't! i cannot bring\\nmy tongue to such a pace:--'look, sir, my wounds!\\ni got them in my country's service, when\\nsome certain of your brethren roar'd and ran\\nfrom the noise of our own drums.'\\n\\nmenenius:\\no me, the gods!\\nyou must not speak of that: you must desire them\\nto think upon you.\\n\\ncoriolanus:\\nthink upon me! hang 'em!\\ni would they would forget me, like the virtues\\nwhich our divines lose by 'em.\\n\\nmenenius:\\nyou'll mar all:\\ni'll leave you: pray you, speak to 'em, i pray you,\\nin wholesome manner.\\n\\ncoriolanus:\\nbid them wash their faces\\nand keep their teeth clean.\\nso, here comes a brace.\\nyou know the cause, air, of my standing here.\\n\\nthird citizen:\\nwe do, sir; tell us what hath brought you to't.\\n\\ncoriolanus:\\nmine own desert.\\n\\nsecond citizen:\\nyour own desert!\\n\\ncoriolanus:\\nay, but not mine own desire.\\n\\nthird citizen:\\nhow not your own desire?\\n\\ncoriolanus:\\nno, sir,'twas never my desire yet to trouble the\\npoor with begging.\\n\\nthird citizen:\\nyou must think, if we give you any thing, we hope to\\ngain by you.\\n\\ncoriolanus:\\nwell then, i pray, your price o' the consulship?\\n\\nfirst citizen:\\nthe price is to ask it kindly.\\n\\ncoriolanus:\\nkindly! sir, i pray, let me ha't: i have wounds to\\nshow you, which shall be yours in private. your\\ngood voice, sir; what say you?\\n\\nsecond citizen:\\nyou shall ha' it, worthy sir.\\n\\ncoriolanus:\\na match, sir. there's in all two worthy voices\\nbegged. i have your alms: adieu.\\n\\nthird citizen:\\nbut this is something odd.\\n\\nsecond citizen:\\nan 'twere to give again,--but 'tis no matter.\\n\\ncoriolanus:\\npray you now, if it may stand with the tune of your\\nvoices that i may be consul, i have here the\\ncustomary gown.\\n\\nfourth citizen:\\nyou have deserved nobly of your country, and you\\nhave not deserved nobly.\\n\\ncoriolanus:\\nyour enigma?\\n\\nfourth citizen:\\nyou have been a scourge to her enemies, you have\\nbeen a rod to her friends; you have not indeed loved\\nthe common people.\\n\\ncoriolanus:\\nyou should account me the more virtuous that i have\\nnot been common in my love. i will, sir, flatter my\\nsworn brother, the people, to earn a dearer\\nestimation of them; 'tis a condition they account\\ngentle: and since the wisdom of their choice is\\nrather to have my hat than my heart, i will practise\\nthe insinuating nod and be off to them most\\ncounterfeitly; that is, sir, i will counterfeit the\\nbewitchment of some popular man and give it\\nbountiful to the desirers. therefore, beseech you,\\ni may be consul.\\n\\nfifth citizen:\\nwe hope to find you our friend; and therefore give\\nyou our voices heartily.\\n\\nfourth citizen:\\nyou have received many wounds for your country.\\n\\ncoriolanus:\\ni will not seal your knowledge with showing them. i\\nwill make much of your voices, and so trouble you no further.\\n\\nboth citizens:\\nthe gods give you joy, sir, heartily!\\n\\ncoriolanus:\\nmost sweet voices!\\nbetter it is to die, better to starve,\\nthan crave the hire which first we do deserve.\\nwhy in this woolvish toge should i stand here,\\nto beg of hob and dick, that do appear,\\ntheir needless vouches? custom calls me to't:\\nwhat custom wills, in all things should we do't,\\nthe dust on antique time would lie unswept,\\nand mountainous error be too highly heapt\\nfor truth to o'er-peer. rather than fool it so,\\nlet the high office and the honour go\\nto one that would do thus. i am half through;\\nthe one part suffer'd, the other will i do.\\nhere come more voices.\\nyour voices: for your voices i have fought;\\nwatch'd for your voices; for your voices bear\\nof wounds two dozen odd; battles thrice six\\ni have seen and heard of; for your voices have\\ndone many things, some less, some more your voices:\\nindeed i would be consul.\\n\\nsixth citizen:\\nhe has done nobly, and cannot go without any honest\\nman's voice.\\n\\nseventh citizen:\\ntherefore let him be consul: the gods give him joy,\\nand make him good friend to the people!\\n\\nall citizens:\\namen, amen. god save thee, noble consul!\\n\\ncoriolanus:\\nworthy voices!\\n\\nmenenius:\\nyou have stood your limitation; and the tribunes\\nendue you with the people's voice: remains\\nthat, in the official marks invested, you\\nanon do meet the senate.\\n\\ncoriolanus:\\nis this done?\\n\\nsicinius:\\nthe custom of request you have discharged:\\nthe people do admit you, and are summon'd\\nto meet anon, upon your approbation.\\n\\ncoriolanus:\\nwhere? at the senate-house?\\n\\nsicinius:\\nthere, coriolanus.\\n\\ncoriolanus:\\nmay i change these garments?\\n\\nsicinius:\\nyou may, sir.\\n\\ncoriolanus:\\nthat i'll straight do; and, knowing myself again,\\nrepair to the senate-house.\\n\\nmenenius:\\ni'll keep you company. will you along?\\n\\nbrutus:\\nwe stay here for the people.\\n\\nsicinius:\\nfare you well.\\nhe has it now, and by his looks methink\\n'tis warm at 's heart.\\n\\nbrutus:\\nwith a proud heart he wore his humble weeds.\\nwill you dismiss the people?\\n\\nsicinius:\\nhow now, my masters! have you chose this man?\\n\\nfirst citizen:\\nhe has our voices, sir.\\n\\nbrutus:\\nwe pray the gods he may deserve your loves.\\n\\nsecond citizen:\\namen, sir: to my poor unworthy notice,\\nhe mock'd us when he begg'd our voices.\\n\\nthird citizen:\\ncertainly\\nhe flouted us downright.\\n\\nfirst citizen:\\nno,'tis his kind of speech: he did not mock us.\\n\\nsecond citizen:\\nnot one amongst us, save yourself, but says\\nhe used us scornfully: he should have show'd us\\nhis marks of merit, wounds received for's country.\\n\\nsicinius:\\nwhy, so he did, i am sure.\\n\\ncitizens:\\nno, no; no man saw 'em.\\n\\nthird citizen:\\nhe said he had wounds, which he could show\\nin private;\\nand with his hat, thus waving it in scorn,\\n'i would be consul,' says he: 'aged custom,\\nbut by your voices, will not so permit me;\\nyour voices therefore.' when we granted that,\\nhere was 'i thank you for your voices: thank you:\\nyour most sweet voices: now you have left\\nyour voices,\\ni have no further with you.' was not this mockery?\\n\\nsicinius:\\nwhy either were you ignorant to see't,\\nor, seeing it, of such childish friendliness\\nto yield your voices?\\n\\nbrutus:\\ncould you not have told him\\nas you were lesson'd, when he had no power,\\nbut was a petty servant to the state,\\nhe was your enemy, ever spake against\\nyour liberties and the charters that you bear\\ni' the body of the weal; and now, arriving\\na place of potency and sway o' the state,\\nif he should still malignantly remain\\nfast foe to the plebeii, your voices might\\nbe curses to yourselves? you should have said\\nthat as his worthy deeds did claim no less\\nthan what he stood for, so his gracious nature\\nwould think upon you for your voices and\\ntranslate his malice towards you into love,\\nstanding your friendly lord.\\n\\nsicinius:\\nthus to have said,\\nas you were fore-advised, had touch'd his spirit\\nand tried his inclination; from him pluck'd\\neither his gracious promise, which you might,\\nas cause had call'd you up, have held him to\\nor else it would have gall'd his surly nature,\\nwhich easily endures not article\\ntying him to aught; so putting him to rage,\\nyou should have ta'en the advantage of his choler\\nand pass'd him unelected.\\n\\nbrutus:\\ndid you perceive\\nhe did solicit you in free contempt\\nwhen he did need your loves, and do you think\\nthat his contempt shall not be bruising to you,\\nwhen he hath power to crush? why, had your bodies\\nno heart among you? or had you tongues to cry\\nagainst the rectorship of judgment?\\n\\nsicinius:\\nhave you\\nere now denied the asker? and now again\\nof him that did not ask, but mock, bestow\\nyour sued-for tongues?\\n\\nthird citizen:\\nhe's not confirm'd; we may deny him yet.\\n\\nsecond citizen:\\nand will deny him:\\ni'll have five hundred voices of that sound.\\n\\nfirst citizen:\\ni twice five hundred and their friends to piece 'em.\\n\\nbrutus:\\nget you hence instantly, and tell those friends,\\nthey have chose a consul that will from them take\\ntheir liberties; make them of no more voice\\nthan dogs that are as often beat for barking\\nas therefore kept to do so.\\n\\nsicinius:\\nlet them assemble,\\nand on a safer judgment all revoke\\nyour ignorant election; enforce his pride,\\nand his old hate unto you; besides, forget not\\nwith what contempt he wore the humble weed,\\nhow in his suit he scorn'd you; but your loves,\\nthinking upon his services, took from you\\nthe apprehension of his present portance,\\nwhich most gibingly, ungravely, he did fashion\\nafter the inveterate hate he bears you.\\n\\nbrutus:\\nlay\\na fault on us, your tribunes; that we laboured,\\nno impediment between, but that you must\\ncast your election on him.\\n\\nsicinius:\\nsay, you chose him\\nmore after our commandment than as guided\\nby your own true affections, and that your minds,\\npreoccupied with what you rather must do\\nthan what you should, made you against the grain\\nto voice him consul: lay the fault on us.\\n\\nbrutus:\\nay, spare us not. say we read lectures to you.\\nhow youngly he began to serve his country,\\nhow long continued, and what stock he springs of,\\nthe noble house o' the marcians, from whence came\\nthat ancus marcius, numa's daughter's son,\\nwho, after great hostilius, here was king;\\nof the same house publius and quintus were,\\nthat our beat water brought by conduits hither;\\nand  \\ntwice being  \\nwas his great ancestor.\\n\\nsicinius:\\none thus descended,\\nthat hath beside well in his person wrought\\nto be set high in place, we did commend\\nto your remembrances: but you have found,\\nscaling his present bearing with his past,\\nthat he's your fixed enemy, and revoke\\nyour sudden approbation.\\n\\nbrutus:\\nsay, you ne'er had done't--\\nharp on that still--but by our putting on;\\nand presently, when you have drawn your number,\\nrepair to the capitol.\\n\\nall:\\nwe will so: almost all\\nrepent in their election.\\n\\nbrutus:\\nlet them go on;\\nthis mutiny were better put in hazard,\\nthan stay, past doubt, for greater:\\nif, as his nature is, he fall in rage\\nwith their refusal, both observe and answer\\nthe vantage of his anger.\\n\\nsicinius:\\nto the capitol, come:\\nwe will be there before the stream o' the people;\\nand this shall seem, as partly 'tis, their own,\\nwhich we have goaded onward.\\n\\ncoriolanus:\\ntullus aufidius then had made new head?\\n\\nlartius:\\nhe had, my lord; and that it was which caused\\nour swifter composition.\\n\\ncoriolanus:\\nso then the volsces stand but as at first,\\nready, when time shall prompt them, to make road.\\nupon's again.\\n\\ncominius:\\nthey are worn, lord consul, so,\\nthat we shall hardly in our ages see\\ntheir banners wave again.\\n\\ncoriolanus:\\nsaw you aufidius?\\n\\nlartius:\\non safe-guard he came to me; and did curse\\nagainst the volsces, for they had so vilely\\nyielded the town: he is retired to antium.\\n\\ncoriolanus:\\nspoke he of me?\\n\\nlartius:\\nhe did, my lord.\\n\\ncoriolanus:\\nhow? what?\\n\\nlartius:\\nhow often he had met you, sword to sword;\\nthat of all things upon the earth he hated\\nyour person most, that he would pawn his fortunes\\nto hopeless restitution, so he might\\nbe call'd your vanquisher.\\n\\ncoriolanus:\\nat antium lives he?\\n\\nlartius:\\nat antium.\\n\\ncoriolanus:\\ni wish i had a cause to seek him there,\\nto oppose his hatred fully. welcome home.\\nbehold, these are the tribunes of the people,\\nthe tongues o' the common mouth: i do despise them;\\nfor they do prank them in authority,\\nagainst all noble sufferance.\\n\\nsicinius:\\npass no further.\\n\\ncoriolanus:\\nha! what is that?\\n\\nbrutus:\\nit will be dangerous to go on: no further.\\n\\ncoriolanus:\\nwhat makes this change?\\n\\nmenenius:\\nthe matter?\\n\\ncominius:\\nhath he not pass'd the noble and the common?\\n\\nbrutus:\\ncominius, no.\\n\\ncoriolanus:\\nhave i had children's voices?\\n\\nfirst senator:\\ntribunes, give way; he shall to the market-place.\\n\\nbrutus:\\nthe people are incensed against him.\\n\\nsicinius:\\nstop,\\nor all will fall in broil.\\n\\ncoriolanus:\\nare these your herd?\\nmust these have voices, that can yield them now\\nand straight disclaim their tongues? what are\\nyour offices?\\nyou being their mouths, why rule you not their teeth?\\nhave you not set them on?\\n\\nmenenius:\\nbe calm, be calm.\\n\\ncoriolanus:\\nit is a purposed thing, and grows by plot,\\nto curb the will of the nobility:\\nsuffer't, and live with such as cannot rule\\nnor ever will be ruled.\\n\\nbrutus:\\ncall't not a plot:\\nthe people cry you mock'd them, and of late,\\nwhen corn was given them gratis, you repined;\\nscandal'd the suppliants for the people, call'd them\\ntime-pleasers, flatterers, foes to nobleness.\\n\\ncoriolanus:\\nwhy, this was known before.\\n\\nbrutus:\\nnot to them all.\\n\\ncoriolanus:\\nhave you inform'd them sithence?\\n\\nbrutus:\\nhow! i inform them!\\n\\ncoriolanus:\\nyou are like to do such business.\\n\\nbrutus:\\nnot unlike,\\neach way, to better yours.\\n\\ncoriolanus:\\nwhy then should i be consul? by yond clouds,\\nlet me deserve so ill as you, and make me\\nyour fellow tribune.\\n\\nsicinius:\\nyou show too much of that\\nfor which the people stir: if you will pass\\nto where you are bound, you must inquire your way,\\nwhich you are out of, with a gentler spirit,\\nor never be so noble as a consul,\\nnor yoke with him for tribune.\\n\\nmenenius:\\nlet's be calm.\\n\\ncominius:\\nthe people are abused; set on. this paltering\\nbecomes not rome, nor has coriolanus\\ndeserved this so dishonour'd rub, laid falsely\\ni' the plain way of his merit.\\n\\ncoriolanus:\\ntell me of corn!\\nthis was my speech, and i will speak't again--\\n\\nmenenius:\\nnot now, not now.\\n\\nfirst senator:\\nnot in this heat, sir, now.\\n\\ncoriolanus:\\nnow, as i live, i will. my nobler friends,\\ni crave their pardons:\\nfor the mutable, rank-scented many, let them\\nregard me as i do not flatter, and\\ntherein behold themselves: i say again,\\nin soothing them, we nourish 'gainst our senate\\nthe cockle of rebellion, insolence, sedition,\\nwhich we ourselves have plough'd for, sow'd,\\nand scatter'd,\\nby mingling them with us, the honour'd number,\\nwho lack not virtue, no, nor power, but that\\nwhich they have given to beggars.\\n\\nmenenius:\\nwell, no more.\\n\\nfirst senator:\\nno more words, we beseech you.\\n\\ncoriolanus:\\nhow! no more!\\nas for my country i have shed my blood,\\nnot fearing outward force, so shall my lungs\\ncoin words till their decay against those measles,\\nwhich we disdain should tatter us, yet sought\\nthe very way to catch them.\\n\\nbrutus:\\nyou speak o' the people,\\nas if you were a god to punish, not\\na man of their infirmity.\\n\\nsicinius:\\n'twere well\\nwe let the people know't.\\n\\nmenenius:\\nwhat, what? his choler?\\n\\ncoriolanus:\\ncholer!\\nwere i as patient as the midnight sleep,\\nby jove, 'twould be my mind!\\n\\nsicinius:\\nit is a mind\\nthat shall remain a poison where it is,\\nnot poison any further.\\n\\ncoriolanus:\\nshall remain!\\nhear you this triton of the minnows? mark you\\nhis absolute 'shall'?\\n\\ncominius:\\n'twas from the canon.\\n\\ncoriolanus:\\n'shall'!\\no good but most unwise patricians! why,\\nyou grave but reckless senators, have you thus\\ngiven hydra here to choose an officer,\\nthat with his peremptory 'shall,' being but\\nthe horn and noise o' the monster's, wants not spirit\\nto say he'll turn your current in a ditch,\\nand make your channel his? if he have power\\nthen vail your ignorance; if none, awake\\nyour dangerous lenity. if you are learn'd,\\nbe not as common fools; if you are not,\\nlet them have cushions by you. you are plebeians,\\nif they be senators: and they are no less,\\nwhen, both your voices blended, the great'st taste\\nmost palates theirs. they choose their magistrate,\\nand such a one as he, who puts his 'shall,'\\nhis popular 'shall' against a graver bench\\nthan ever frown in greece. by jove himself!\\nit makes the consuls base: and my soul aches\\nto know, when two authorities are up,\\nneither supreme, how soon confusion\\nmay enter 'twixt the gap of both and take\\nthe one by the other.\\n\\ncominius:\\nwell, on to the market-place.\\n\\ncoriolanus:\\nwhoever gave that counsel, to give forth\\nthe corn o' the storehouse gratis, as 'twas used\\nsometime in greece,--\\n\\nmenenius:\\nwell, well, no more of that.\\n\\ncoriolanus:\\nthough there the people had more absolute power,\\ni say, they nourish'd disobedience, fed\\nthe ruin of the state.\\n\\nbrutus:\\nwhy, shall the people give\\none that speaks thus their voice?\\n\\ncoriolanus:\\ni'll give my reasons,\\nmore worthier than their voices. they know the corn\\nwas not our recompense, resting well assured\\nthat ne'er did service for't: being press'd to the war,\\neven when the navel of the state was touch'd,\\nthey would not thread the gates. this kind of service\\ndid not deserve corn gratis. being i' the war\\ntheir mutinies and revolts, wherein they show'd\\nmost valour, spoke not for them: the accusation\\nwhich they have often made against the senate,\\nall cause unborn, could never be the motive\\nof our so frank donation. well, what then?\\nhow shall this bisson multitude digest\\nthe senate's courtesy? let deeds express\\nwhat's like to be their words: 'we did request it;\\nwe are the greater poll, and in true fear\\nthey gave us our demands.' thus we debase\\nthe nature of our seats and make the rabble\\ncall our cares fears; which will in time\\nbreak ope the locks o' the senate and bring in\\nthe crows to peck the eagles.\\n\\nmenenius:\\ncome, enough.\\n\\nbrutus:\\nenough, with over-measure.\\n\\ncoriolanus:\\nno, take more:\\nwhat may be sworn by, both divine and human,\\nseal what i end withal! this double worship,\\nwhere one part does disdain with cause, the other\\ninsult without all reason, where gentry, title, wisdom,\\ncannot conclude but by the yea and no\\nof general ignorance,--it must omit\\nreal necessities, and give way the while\\nto unstable slightness: purpose so barr'd,\\nit follows,\\nnothing is done to purpose. therefore, beseech you,--\\nyou that will be less fearful than discreet,\\nthat love the fundamental part of state\\nmore than you doubt the change on't, that prefer\\na noble life before a long, and wish\\nto jump a body with a dangerous physic\\nthat's sure of death without it, at once pluck out\\nthe multitudinous tongue; let them not lick\\nthe sweet which is their poison: your dishonour\\nmangles true judgment and bereaves the state\\nof that integrity which should become't,\\nnot having the power to do the good it would,\\nfor the in which doth control't.\\n\\nbrutus:\\nhas said enough.\\n\\nsicinius:\\nhas spoken like a traitor, and shall answer\\nas traitors do.\\n\\ncoriolanus:\\nthou wretch, despite o'erwhelm thee!\\nwhat should the people do with these bald tribunes?\\non whom depending, their obedience fails\\nto the greater bench: in a rebellion,\\nwhen what's not meet, but what must be, was law,\\nthen were they chosen: in a better hour,\\nlet what is meet be said it must be meet,\\nand throw their power i' the dust.\\n\\nbrutus:\\nmanifest treason!\\n\\nsicinius:\\nthis a consul? no.\\n\\nbrutus:\\nthe aediles, ho!\\nlet him be apprehended.\\n\\nsicinius:\\ngo, call the people:\\nin whose name myself\\nattach thee as a traitorous innovator,\\na foe to the public weal: obey, i charge thee,\\nand follow to thine answer.\\n\\ncoriolanus:\\nhence, old goat!\\n\\nsenators, &c:\\nwe'll surety him.\\n\\ncominius:\\naged sir, hands off.\\n\\ncoriolanus:\\nhence, rotten thing! or i shall shake thy bones\\nout of thy garments.\\n\\nsicinius:\\nhelp, ye citizens!\\n\\nmenenius:\\non both sides more respect.\\n\\nsicinius:\\nhere's he that would take from you all your power.\\n\\nbrutus:\\nseize him, aediles!\\n\\ncitizens:\\ndown with him! down with him!\\n\\nsenators, &c:\\nweapons, weapons, weapons!\\n'tribunes!' 'patricians!' 'citizens!' 'what, ho!'\\n'sicinius!' 'brutus!' 'coriolanus!' 'citizens!'\\n'peace, peace, peace!' 'stay, hold, peace!'\\n\\nmenenius:\\nwhat is about to be? i am out of breath;\\nconfusion's near; i cannot speak. you, tribunes\\nto the people! coriolanus, patience!\\nspeak, good sicinius.\\n\\nsicinius:\\nhear me, people; peace!\\n\\ncitizens:\\nlet's hear our tribune: peace speak, speak, speak.\\n\\nsicinius:\\nyou are at point to lose your liberties:\\nmarcius would have all from you; marcius,\\nwhom late you have named for consul.\\n\\nmenenius:\\nfie, fie, fie!\\nthis is the way to kindle, not to quench.\\n\\nfirst senator:\\nto unbuild the city and to lay all flat.\\n\\nsicinius:\\nwhat is the city but the people?\\n\\ncitizens:\\ntrue,\\nthe people are the city.\\n\\nbrutus:\\nby the consent of all, we were establish'd\\nthe people's magistrates.\\n\\ncitizens:\\nyou so remain.\\n\\nmenenius:\\nand so are like to do.\\n\\ncominius:\\nthat is the way to lay the city flat;\\nto bring the roof to the foundation,\\nand bury all, which yet distinctly ranges,\\nin heaps and piles of ruin.\\n\\nsicinius:\\nthis deserves death.\\n\\nbrutus:\\nor let us stand to our authority,\\nor let us lose it. we do here pronounce,\\nupon the part o' the people, in whose power\\nwe were elected theirs, marcius is worthy\\nof present death.\\n\\nsicinius:\\ntherefore lay hold of him;\\nbear him to the rock tarpeian, and from thence\\ninto destruction cast him.\\n\\nbrutus:\\naediles, seize him!\\n\\ncitizens:\\nyield, marcius, yield!\\n\\nmenenius:\\nhear me one word;\\nbeseech you, tribunes, hear me but a word.\\n\\naedile:\\npeace, peace!\\n\\nmenenius:\\n\\nbrutus:\\nsir, those cold ways,\\nthat seem like prudent helps, are very poisonous\\nwhere the disease is violent. lay hands upon him,\\nand bear him to the rock.\\n\\ncoriolanus:\\nno, i'll die here.\\nthere's some among you have beheld me fighting:\\ncome, try upon yourselves what you have seen me.\\n\\nmenenius:\\ndown with that sword! tribunes, withdraw awhile.\\n\\nbrutus:\\nlay hands upon him.\\n\\ncominius:\\nhelp marcius, help,\\nyou that be noble; help him, young and old!\\n\\ncitizens:\\ndown with him, down with him!\\n\\nmenenius:\\ngo, get you to your house; be gone, away!\\nall will be naught else.\\n\\nsecond senator:\\nget you gone.\\n\\ncominius:\\nstand fast;\\nwe have as many friends as enemies.\\n\\nmenenius:\\nsham it be put to that?\\n\\nfirst senator:\\nthe gods forbid!\\ni prithee, noble friend, home to thy house;\\nleave us to cure this cause.\\n\\nmenenius:\\nfor 'tis a sore upon us,\\nyou cannot tent yourself: be gone, beseech you.\\n\\ncominius:\\ncome, sir, along with us.\\n\\ncoriolanus:\\ni would they were barbarians--as they are,\\nthough in rome litter'd--not romans--as they are not,\\nthough calved i' the porch o' the capitol--\\n\\nmenenius:\\nbe gone;\\nput not your worthy rage into your tongue;\\none time will owe another.\\n\\ncoriolanus:\\non fair ground\\ni could beat forty of them.\\n\\ncominius:\\ni could myself\\ntake up a brace o' the best of them; yea, the\\ntwo tribunes:\\nbut now 'tis odds beyond arithmetic;\\nand manhood is call'd foolery, when it stands\\nagainst a falling fabric. will you hence,\\nbefore the tag return? whose rage doth rend\\nlike interrupted waters and o'erbear\\nwhat they are used to bear.\\n\\nmenenius:\\npray you, be gone:\\ni'll try whether my old wit be in request\\nwith those that have but little: this must be patch'd\\nwith cloth of any colour.\\n\\ncominius:\\nnay, come away.\\n\\na patrician:\\nthis man has marr'd his fortune.\\n\\nmenenius:\\nhis nature is too noble for the world:\\nhe would not flatter neptune for his trident,\\nor jove for's power to thunder. his heart's his mouth:\\nwhat his breast forges, that his tongue must vent;\\nand, being angry, does forget that ever\\nhe heard the name of death.\\nhere's goodly work!\\n\\nsecond patrician:\\ni would they were abed!\\n\\nmenenius:\\ni would they were in tiber! what the vengeance!\\ncould he not speak 'em fair?\\n\\nsicinius:\\nwhere is this viper\\nthat would depopulate the city and\\nbe every man himself?\\n\\nmenenius:\\nyou worthy tribunes,--\\n\\nsicinius:\\nhe shall be thrown down the tarpeian rock\\nwith rigorous hands: he hath resisted law,\\nand therefore law shall scorn him further trial\\nthan the severity of the public power\\nwhich he so sets at nought.\\n\\nfirst citizen:\\nhe shall well know\\nthe noble tribunes are the people's mouths,\\nand we their hands.\\n\\ncitizens:\\nhe shall, sure on't.\\n\\nmenenius:\\nsir, sir,--\\n\\nsicinius:\\npeace!\\n\\nmenenius:\\ndo not cry havoc, where you should but hunt\\nwith modest warr\""
            ],
            "application/vnd.google.colaboratory.intrinsic+json": {
              "type": "string"
            }
          },
          "metadata": {},
          "execution_count": 30
        }
      ]
    },
    {
      "cell_type": "code",
      "source": [
        "characters = sorted(set(text))\n",
        "\n",
        "char_to_index = dict((c, i) for i, c in enumerate(characters))\n",
        "index_to_char = dict((i, c) for i, c in enumerate(characters))"
      ],
      "metadata": {
        "id": "yubolBcZtjXi"
      },
      "execution_count": 31,
      "outputs": []
    },
    {
      "cell_type": "code",
      "source": [
        "char_to_index\n",
        "print(index_to_char)"
      ],
      "metadata": {
        "colab": {
          "base_uri": "https://localhost:8080/"
        },
        "id": "sxhEAivn1ecJ",
        "outputId": "2782ffee-f256-4181-b7dd-3892cf2d8b63"
      },
      "execution_count": 32,
      "outputs": [
        {
          "output_type": "stream",
          "name": "stdout",
          "text": [
            "{0: '\\n', 1: ' ', 2: '!', 3: '&', 4: \"'\", 5: ',', 6: '-', 7: '.', 8: ':', 9: ';', 10: '?', 11: 'a', 12: 'b', 13: 'c', 14: 'd', 15: 'e', 16: 'f', 17: 'g', 18: 'h', 19: 'i', 20: 'j', 21: 'k', 22: 'l', 23: 'm', 24: 'n', 25: 'o', 26: 'p', 27: 'q', 28: 'r', 29: 's', 30: 't', 31: 'u', 32: 'v', 33: 'w', 34: 'x', 35: 'y', 36: 'z'}\n"
          ]
        }
      ]
    },
    {
      "cell_type": "code",
      "source": [
        "sequence_lenth=40\n",
        "step_size=3\n",
        "sentences=[]\n",
        "next_char=[]\n",
        "for i in range(0,len(text)-sequence_lenth,step_size):\n",
        "    sentences.append(text[i:i+sequence_lenth])\n",
        "    next_char.append(text[i+sequence_lenth])\n"
      ],
      "metadata": {
        "id": "14_-H4o81gbG"
      },
      "execution_count": 36,
      "outputs": []
    },
    {
      "cell_type": "code",
      "source": [
        "x=np.zeros((len(sentences),sequence_lenth,len(characters)),dtype=bool)\n",
        "y=np.zeros((len(sentences),len(characters)),dtype=bool)"
      ],
      "metadata": {
        "id": "K8v2VuKj3Tgf"
      },
      "execution_count": 38,
      "outputs": []
    },
    {
      "cell_type": "code",
      "source": [
        "x[0]"
      ],
      "metadata": {
        "colab": {
          "base_uri": "https://localhost:8080/"
        },
        "id": "uItuWt5m3k7y",
        "outputId": "186993f8-c576-4dbf-8bb6-046903b675cb"
      },
      "execution_count": 40,
      "outputs": [
        {
          "output_type": "execute_result",
          "data": {
            "text/plain": [
              "array([[False, False, False, ..., False, False, False],\n",
              "       [False, False, False, ..., False, False, False],\n",
              "       [False, False, False, ..., False, False, False],\n",
              "       ...,\n",
              "       [False, False, False, ..., False, False, False],\n",
              "       [False, False, False, ..., False, False, False],\n",
              "       [False, False, False, ..., False, False, False]])"
            ]
          },
          "metadata": {},
          "execution_count": 40
        }
      ]
    },
    {
      "cell_type": "code",
      "source": [
        "for i,sentence in enumerate(sentences):\n",
        "    for t,char in enumerate(sentence):\n",
        "        x[i,t,char_to_index[char]]=1\n",
        "    y[i,char_to_index[next_char[i]]]=1"
      ],
      "metadata": {
        "id": "-uDpVOuR33Bn"
      },
      "execution_count": 41,
      "outputs": []
    },
    {
      "cell_type": "code",
      "source": [
        "model=Sequential()\n",
        "model.add(LSTM(128,input_shape=(sequence_lenth,len(characters))))\n",
        "model.add(Dense(len(characters)))\n",
        "model.add(Activation('softmax'))"
      ],
      "metadata": {
        "colab": {
          "base_uri": "https://localhost:8080/"
        },
        "id": "TtyOYoQR4LrW",
        "outputId": "4b1fd0d2-b504-4e0b-cb41-b49c32262682"
      },
      "execution_count": 47,
      "outputs": [
        {
          "output_type": "stream",
          "name": "stderr",
          "text": [
            "/usr/local/lib/python3.10/dist-packages/keras/src/layers/rnn/rnn.py:204: UserWarning: Do not pass an `input_shape`/`input_dim` argument to a layer. When using Sequential models, prefer using an `Input(shape)` object as the first layer in the model instead.\n",
            "  super().__init__(**kwargs)\n"
          ]
        }
      ]
    },
    {
      "cell_type": "code",
      "source": [
        "model.compile(loss='categorical_crossentropy',optimizer=RMSprop(learning_rate=0.01))\n",
        "model.fit(x,y,batch_size=256,epochs=4)"
      ],
      "metadata": {
        "colab": {
          "base_uri": "https://localhost:8080/"
        },
        "id": "ljDjDlbv4MLI",
        "outputId": "10002ac8-cc68-4374-a71c-152e4e8c2de6"
      },
      "execution_count": 50,
      "outputs": [
        {
          "output_type": "stream",
          "name": "stdout",
          "text": [
            "Epoch 1/4\n",
            "\u001b[1m79/79\u001b[0m \u001b[32m━━━━━━━━━━━━━━━━━━━━\u001b[0m\u001b[37m\u001b[0m \u001b[1m14s\u001b[0m 161ms/step - loss: 2.8026\n",
            "Epoch 2/4\n",
            "\u001b[1m79/79\u001b[0m \u001b[32m━━━━━━━━━━━━━━━━━━━━\u001b[0m\u001b[37m\u001b[0m \u001b[1m20s\u001b[0m 151ms/step - loss: 2.2566\n",
            "Epoch 3/4\n",
            "\u001b[1m79/79\u001b[0m \u001b[32m━━━━━━━━━━━━━━━━━━━━\u001b[0m\u001b[37m\u001b[0m \u001b[1m20s\u001b[0m 152ms/step - loss: 2.0594\n",
            "Epoch 4/4\n",
            "\u001b[1m79/79\u001b[0m \u001b[32m━━━━━━━━━━━━━━━━━━━━\u001b[0m\u001b[37m\u001b[0m \u001b[1m19s\u001b[0m 138ms/step - loss: 1.9030\n"
          ]
        },
        {
          "output_type": "execute_result",
          "data": {
            "text/plain": [
              "<keras.src.callbacks.history.History at 0x7b377ec778b0>"
            ]
          },
          "metadata": {},
          "execution_count": 50
        }
      ]
    },
    {
      "cell_type": "code",
      "source": [
        "def sample(preds, temperature=1.0):\n",
        "    preds = np.asarray(preds).astype('float64')\n",
        "    preds = np.log(preds) / temperature\n",
        "    exp_preds = np.exp(preds)\n",
        "    preds = exp_preds / np.sum(exp_preds)\n",
        "    probas = np.random.multinomial(1, preds, 1)\n",
        "    return np.argmax(probas)"
      ],
      "metadata": {
        "id": "qXg2tF9q45Jb"
      },
      "execution_count": 51,
      "outputs": []
    },
    {
      "cell_type": "code",
      "source": [
        "def generate_text(length, temperature):\n",
        "    start_index = random.randint(0, len(text) - sequence_lenth - 1)\n",
        "    generated = ''\n",
        "    sentence = text[start_index: start_index + sequence_lenth]\n",
        "    generated += sentence\n",
        "    for i in range(length):\n",
        "        x_predictions = np.zeros((1, sequence_lenth, len(characters)))\n",
        "        for t, char in enumerate(sentence):\n",
        "            x_predictions[0, t, char_to_index[char]] = 1\n",
        "\n",
        "        predictions = model.predict(x_predictions, verbose=0)[0]\n",
        "        next_index = sample(predictions,\n",
        "                                 temperature)\n",
        "        next_character = index_to_char[next_index]\n",
        "\n",
        "        generated += next_character\n",
        "        sentence = sentence[1:] + next_character\n",
        "    return generated"
      ],
      "metadata": {
        "id": "Ak9jVrPL57mi"
      },
      "execution_count": 54,
      "outputs": []
    },
    {
      "cell_type": "code",
      "source": [
        "print(generate_text(300, 0.2))\n",
        "print(\"0.4\")\n",
        "print(generate_text(300, 0.4))\n",
        "print(\"0.6\")\n",
        "print(generate_text(300, 0.6))\n",
        "print(\"0.8\")\n",
        "print(generate_text(300, 0.8))\n",
        "print(\"1\")\n",
        "print(generate_text(300, 1))"
      ],
      "metadata": {
        "colab": {
          "base_uri": "https://localhost:8080/"
        },
        "id": "rAIKaNQs5iiJ",
        "outputId": "848fb155-24a8-4439-9932-d5267edc2ce0"
      },
      "execution_count": 56,
      "outputs": [
        {
          "output_type": "stream",
          "name": "stdout",
          "text": [
            " to issue out of\n",
            "one skull, they would for he heme to but heme heme home he the the the whe heme heme heme he stond to menger mong and woun and to menger mong and to sugher mong and to mengon to cons and to menger to ent to men to menger to menger mong and to me cons and to and to suge to not not he the the butt and mong to the mongon and\n",
            "0.4\n",
            " coming home!\n",
            "\n",
            "volumnia:\n",
            "ay, worthy mene to mengen so pomse he when your thengere wo home heme mond and to and a gogd a dome here to sugh mongan so she munt to pent to meng on the gong to gond mong ang stond to neme he woung to men not not me to mend of the shing the doman as to the gont\n",
            "to not of shome heme so me to mong to whe to she po\n",
            "0.6\n",
            "sty plebeians, hate thine honours,\n",
            "shall mencesencond foure to menger to your goiten a duge go so whe cons long of coming here hong come be to nom not not mong the ars and woun a to be they enot' tring in there to sengom oup erest but he oft ou not heme romy eng and nom wer mome and to gome fot heme you hang the cominian to nop you he gra\n",
            "0.8\n",
            "verity of the public power\n",
            "which he so senf, you  oust\n",
            "on to your beqgifes pothies gove as ir out wo comane.\n",
            "\n",
            "cominius: bereow of went ous ard in thenon hom\n",
            "fors, hot a to lent so fon soods for fon, you ho homes for's poice our leven swume doths foo.\n",
            "\n",
            "comeninan:\n",
            "beln our ser mins a mown and nee vonger\n",
            "melt and than as a ponscare. oo fo me\n",
            "1\n",
            " without any honest\n",
            "man's voice.\n",
            "\n",
            "sevent ard thins as in\n",
            "ulanger in therris, of you sorod, spast for mend be make mele hewe hon'um;\n",
            "an bot'r.\n",
            "\n",
            "cominianancer ar!\n",
            "nor a d geqt.\n",
            "\n",
            "sconiolaniag\n",
            "\n",
            "mortion: wouniur\n",
            "'vaves sot himn lear in wowine wough metgever! to delgow\n",
            "wo do and and you hot.\n",
            "\n",
            "monsnonangoness, to ke, to ang leatom hovs leve i he\n"
          ]
        }
      ]
    },
    {
      "cell_type": "code",
      "source": [],
      "metadata": {
        "id": "n7k8Popl7X2Y"
      },
      "execution_count": null,
      "outputs": []
    }
  ]
}